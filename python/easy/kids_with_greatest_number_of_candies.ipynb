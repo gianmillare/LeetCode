{
 "cells": [
  {
   "cell_type": "markdown",
   "metadata": {},
   "source": [
    "### Please note that this has two solutions. Although the first solution is technically correct, it does not have an output on the LeetCode console. The second solution provides the same answer, but also outputs to the console."
   ]
  },
  {
   "cell_type": "code",
   "execution_count": 45,
   "metadata": {},
   "outputs": [],
   "source": [
    "def kidsWithCandies(candies, extraCandies):\n",
    "    results = []\n",
    "    if (2 <= len(candies) <= 100) and (1 <= extraCandies <= 50):\n",
    "        for i in range(len(candies)):\n",
    "            x = candies[i]\n",
    "            if 1 <= x <= 50:\n",
    "                if x < max(candies):\n",
    "                    sum_candies = x + extraCandies\n",
    "                    if sum_candies >= max(candies):\n",
    "                        results.append(True)\n",
    "                    else:\n",
    "                        results.append(False)\n",
    "                else:\n",
    "                    results.append(True)\n",
    "            else:\n",
    "                print('Invalid input!')\n",
    "        print(results)\n",
    "    else:\n",
    "        print('Invalid input!')"
   ]
  },
  {
   "cell_type": "code",
   "execution_count": 46,
   "metadata": {},
   "outputs": [
    {
     "name": "stdout",
     "output_type": "stream",
     "text": [
      "[True, True, True, False, True]\n"
     ]
    }
   ],
   "source": [
    "candies = [2,3,5,1,3]\n",
    "extraCandies = 3\n",
    "kidsWithCandies(candies, extraCandies)"
   ]
  },
  {
   "cell_type": "code",
   "execution_count": 47,
   "metadata": {},
   "outputs": [
    {
     "name": "stdout",
     "output_type": "stream",
     "text": [
      "[True, False, False, False, False]\n"
     ]
    }
   ],
   "source": [
    "candies = [4,2,1,1,2]\n",
    "extraCandies = 1\n",
    "kidsWithCandies(candies, extraCandies)"
   ]
  },
  {
   "cell_type": "code",
   "execution_count": 48,
   "metadata": {},
   "outputs": [],
   "source": [
    "def kidsWithCandies(candies, extraCandies):\n",
    "        return [candy + extraCandies >= max(candies) for candy in candies]"
   ]
  },
  {
   "cell_type": "code",
   "execution_count": 49,
   "metadata": {
    "scrolled": true
   },
   "outputs": [
    {
     "data": {
      "text/plain": [
       "[True, True, True, False, True]"
      ]
     },
     "execution_count": 49,
     "metadata": {},
     "output_type": "execute_result"
    }
   ],
   "source": [
    "candies = [2,3,5,1,3]\n",
    "extraCandies = 3\n",
    "kidsWithCandies(candies, extraCandies)"
   ]
  },
  {
   "cell_type": "markdown",
   "metadata": {},
   "source": [
    "### Here is another solution which is a shorter version of the first solution."
   ]
  },
  {
   "cell_type": "code",
   "execution_count": 60,
   "metadata": {},
   "outputs": [],
   "source": [
    "def kidsWithCandies(candies, extraCandies):\n",
    "    results = []\n",
    "    for candy in candies:\n",
    "        if candy + extraCandies >= max(candies):\n",
    "            results.append(True)\n",
    "        else:\n",
    "            results.append(False)\n",
    "    print(results)"
   ]
  },
  {
   "cell_type": "code",
   "execution_count": 61,
   "metadata": {},
   "outputs": [
    {
     "name": "stdout",
     "output_type": "stream",
     "text": [
      "[True, True, True, False, True]\n"
     ]
    }
   ],
   "source": [
    "candies = [2,3,5,1,3]\n",
    "extraCandies = 3\n",
    "kidsWithCandies(candies, extraCandies)"
   ]
  },
  {
   "cell_type": "code",
   "execution_count": null,
   "metadata": {},
   "outputs": [],
   "source": []
  }
 ],
 "metadata": {
  "kernelspec": {
   "display_name": "Python 3",
   "language": "python",
   "name": "python3"
  },
  "language_info": {
   "codemirror_mode": {
    "name": "ipython",
    "version": 3
   },
   "file_extension": ".py",
   "mimetype": "text/x-python",
   "name": "python",
   "nbconvert_exporter": "python",
   "pygments_lexer": "ipython3",
   "version": "3.7.4"
  }
 },
 "nbformat": 4,
 "nbformat_minor": 2
}
